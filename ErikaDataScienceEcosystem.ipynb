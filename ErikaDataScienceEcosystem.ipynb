{
 "cells": [
  {
   "cell_type": "markdown",
   "id": "a3697df6-4d37-4fd8-9889-2e57ac5a57d0",
   "metadata": {},
   "source": [
    "# Data Science Tools and Ecosystem\n"
   ]
  },
  {
   "cell_type": "markdown",
   "id": "eba9fb3b-c645-4648-b487-54d9396edc72",
   "metadata": {},
   "source": [
    "**Ex3.** In this notebook, I will summarize Data Science Tools and Ecosystems.\n"
   ]
  },
  {
   "cell_type": "markdown",
   "id": "063ee39f-64a8-4e10-a055-def0d62cb555",
   "metadata": {},
   "source": [
    "**Ex4.** *Some of the popular languages that Data Scientists use are:*\n",
    "\n",
    "1. Python\n",
    "2. R\n",
    "3. SQL\n"
   ]
  },
  {
   "cell_type": "markdown",
   "id": "0f445638-6ba3-4d79-a1fd-59f5ef045fb6",
   "metadata": {},
   "source": [
    "**Ex5.** *Some of the commonly used libraries used by Data Scientists include:*\n",
    "1. Pandas\n",
    "2. NumPy\n",
    "3. Matplotlib\n",
    "4. Scikit-learn\n",
    "5. TensorFlow\n"
   ]
  },
  {
   "cell_type": "markdown",
   "id": "cf371d98-abe9-49a3-a3cf-5338ceb89e3b",
   "metadata": {},
   "source": [
    "**Ex6.** *Creating a markdown cell with a table of data science tools.*\n",
    "| Data Science Tools |\n",
    "|--------------------|\n",
    "| Jupyter Notebook    |\n",
    "| RStudio             |\n",
    "| Apache Zeppelin     |\n"
   ]
  },
  {
   "cell_type": "markdown",
   "id": "3ebd90ca-3985-47fe-9b30-c685bb7ec57a",
   "metadata": {},
   "source": [
    "### Below are a few examples of evaluating arithmetic expressions in Python.\n"
   ]
  },
  {
   "cell_type": "code",
   "execution_count": 7,
   "id": "170272e2-8a48-460e-b5cf-149a56519b2a",
   "metadata": {
    "jp-MarkdownHeadingCollapsed": true
   },
   "outputs": [
    {
     "name": "stdout",
     "output_type": "stream",
     "text": [
      "17\n",
      "True\n"
     ]
    }
   ],
   "source": [
    "##Ex8. This a simple arithmetic expression to multiply then add integers\n",
    "result = (3*4)+5\n",
    "print(result)\n",
    "print(result==17)\n"
   ]
  },
  {
   "cell_type": "code",
   "execution_count": 8,
   "id": "b3b544f8-015a-41b6-9eea-1060e5c03516",
   "metadata": {},
   "outputs": [
    {
     "name": "stdout",
     "output_type": "stream",
     "text": [
      "3.3333333333333335\n"
     ]
    }
   ],
   "source": [
    "#Ex8. This will convert 200 minutes to hours by dividing by 60\n",
    "result = 200 / 60\n",
    "print(result)\n"
   ]
  },
  {
   "cell_type": "markdown",
   "id": "c1cbd084-3f8a-4afe-bfa6-810c28fd5b69",
   "metadata": {},
   "source": [
    "**Ex5. Objectives:**\n",
    "- Categories of Data Science Tools\n",
    "- Open Source Tools\n",
    "- Commercial Tools for Data Science\n",
    "- Languages of Data Science\n"
   ]
  },
  {
   "cell_type": "markdown",
   "id": "a25e1fbd-8db3-4f5e-95b3-6635002a3e12",
   "metadata": {},
   "source": [
    "## Author\n",
    "Dona Erika Moesha Hettiaratchy\n",
    "\n"
   ]
  }
 ],
 "metadata": {
  "kernelspec": {
   "display_name": "Python 3 (ipykernel)",
   "language": "python",
   "name": "python3"
  },
  "language_info": {
   "codemirror_mode": {
    "name": "ipython",
    "version": 3
   },
   "file_extension": ".py",
   "mimetype": "text/x-python",
   "name": "python",
   "nbconvert_exporter": "python",
   "pygments_lexer": "ipython3",
   "version": "3.12.4"
  }
 },
 "nbformat": 4,
 "nbformat_minor": 5
}
